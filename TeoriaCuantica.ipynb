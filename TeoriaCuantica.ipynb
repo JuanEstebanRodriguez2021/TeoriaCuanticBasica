{
 "cells": [
  {
   "cell_type": "markdown",
   "metadata": {},
   "source": [
    "## Taller Teoria Cuantica Básica, Observable y Medidas (Juan Esteban Rodríguez)\n"
   ]
  },
  {
   "cell_type": "markdown",
   "metadata": {},
   "source": [
    "Sistema Cuantico 4.1 "
   ]
  },
  {
   "cell_type": "code",
   "execution_count": 1,
   "metadata": {},
   "outputs": [
    {
     "name": "stdout",
     "output_type": "stream",
     "text": [
      "Probabilidad de encontrar la partícula en la posición 0: 0.4999999999999999\n",
      "Probabilidad de transición del estado ket_1 al ket_2: 0.2499999999999999\n"
     ]
    }
   ],
   "source": [
    "import numpy as np\n",
    "\n",
    "class QuantumSystem:\n",
    "    def __init__(self, num_positions, ket_vector):\n",
    "        self.num_positions = num_positions\n",
    "        self.ket = np.array(ket_vector, dtype=complex)\n",
    "        assert len(self.ket) == num_positions\n",
    "\n",
    "    def probability_at_position(self, position):\n",
    "        assert 0 <= position < self.num_positions\n",
    "        probability = np.abs(self.ket[position]) ** 2\n",
    "        return probability\n",
    "\n",
    "    def transition_probability(self, ket_vector_2):\n",
    "        ket_2 = np.array(ket_vector_2, dtype=complex)\n",
    "        assert len(ket_2) == self.num_positions\n",
    "        inner_product = np.vdot(self.ket, ket_2)\n",
    "        transition_prob = np.abs(inner_product) ** 2\n",
    "        return transition_prob\n",
    "\n",
    "num_positions = 3\n",
    "ket_1 = [1/np.sqrt(2), 1j/np.sqrt(2), 0]\n",
    "ket_2 = [0, 1/np.sqrt(2), 1/np.sqrt(2)]\n",
    "\n",
    "quantum_system = QuantumSystem(num_positions, ket_1)\n",
    "\n",
    "prob_pos_1 = quantum_system.probability_at_position(0)\n",
    "print(f\"Probabilidad de encontrar la partícula en la posición 0: {prob_pos_1}\")\n",
    "\n",
    "transition_prob = quantum_system.transition_probability(ket_2)\n",
    "print(f\"Probabilidad de transición del estado ket_1 al ket_2: {transition_prob}\")\n"
   ]
  },
  {
   "cell_type": "markdown",
   "metadata": {},
   "source": [
    "Retos de Programacion"
   ]
  },
  {
   "cell_type": "markdown",
   "metadata": {},
   "source": [
    "- Amplitud de transición "
   ]
  },
  {
   "cell_type": "code",
   "execution_count": 2,
   "metadata": {},
   "outputs": [
    {
     "name": "stdout",
     "output_type": "stream",
     "text": [
      "Probabilidad de transición: 0.2499999999999999\n"
     ]
    }
   ],
   "source": [
    "import numpy as np\n",
    "\n",
    "def transition_amplitude(ket1, ket2):\n",
    "    ket1 = np.array(ket1, dtype=complex)\n",
    "    ket2 = np.array(ket2, dtype=complex)\n",
    "    inner_product = np.vdot(ket1, ket2)\n",
    "    return np.abs(inner_product) ** 2\n",
    "\n",
    "# Ejemplo\n",
    "ket1 = [1/np.sqrt(2), 1j/np.sqrt(2), 0]\n",
    "ket2 = [0, 1/np.sqrt(2), 1/np.sqrt(2)]\n",
    "prob_transicion = transition_amplitude(ket1, ket2)\n",
    "print(f\"Probabilidad de transición: {prob_transicion}\")"
   ]
  },
  {
   "cell_type": "markdown",
   "metadata": {},
   "source": [
    "- Media y Varianza de un observable hermitiano"
   ]
  },
  {
   "cell_type": "code",
   "execution_count": 3,
   "metadata": {},
   "outputs": [
    {
     "name": "stdout",
     "output_type": "stream",
     "text": [
      "Media: (-2.2371143170757382e-17+0j), Varianza: (0.9999999999999998+0j)\n"
     ]
    }
   ],
   "source": [
    "def is_hermitian(matrix):\n",
    "    return np.allclose(matrix, np.conjugate(matrix.T))\n",
    "\n",
    "def mean_and_variance(observable, ket):\n",
    "    ket = np.array(ket, dtype=complex)\n",
    "    if not is_hermitian(observable):\n",
    "        raise ValueError(\"La matriz no es hermitiana.\")\n",
    "    \n",
    "    mean = np.vdot(ket, np.dot(observable, ket))\n",
    "    ket_expectation = mean * ket\n",
    "    variance = np.vdot(ket, np.dot(observable @ observable, ket)) - np.abs(mean) ** 2\n",
    "    return mean, variance\n",
    "\n",
    "# Ejemplo\n",
    "observable = np.array([[1, 0], [0, -1]])\n",
    "ket = [1/np.sqrt(2), 1/np.sqrt(2)]\n",
    "media, varianza = mean_and_variance(observable, ket)\n",
    "print(f\"Media: {media}, Varianza: {varianza}\")\n"
   ]
  },
  {
   "cell_type": "markdown",
   "metadata": {},
   "source": [
    "- Ejercicio 4.3.1\n"
   ]
  },
  {
   "cell_type": "code",
   "execution_count": 1,
   "metadata": {},
   "outputs": [
    {
     "name": "stdout",
     "output_type": "stream",
     "text": [
      "Probabilidad de colapsar en 'spin up': 0\n",
      "Probabilidad de colapsar en 'spin down': 1\n"
     ]
    }
   ],
   "source": [
    "import numpy as np\n",
    "\n",
    "psi_up = np.array([[1], [0]])\n",
    "psi_down = np.array([[0], [1]])\n",
    "S_x_full = np.array([[0, 1], [1, 0]])\n",
    "\n",
    "psi_after_Sx = np.dot(S_x_full, psi_up)\n",
    "\n",
    "prob_spin_up = np.abs(np.dot(psi_up.T.conj(), psi_after_Sx))**2\n",
    "prob_spin_down = np.abs(np.dot(psi_down.T.conj(), psi_after_Sx))**2\n",
    "\n",
    "print(f\"Probabilidad de colapsar en 'spin up': {prob_spin_up[0][0]}\")\n",
    "print(f\"Probabilidad de colapsar en 'spin down': {prob_spin_down[0][0]}\")\n"
   ]
  },
  {
   "cell_type": "markdown",
   "metadata": {},
   "source": [
    "- Ejercicio 4.3.2"
   ]
  },
  {
   "cell_type": "code",
   "execution_count": 2,
   "metadata": {},
   "outputs": [
    {
     "data": {
      "image/png": "[encoded data removed]",
      "text/plain": [
       "<Figure size 640x480 with 1 Axes>"
      ]
     },
     "metadata": {},
     "output_type": "display_data"
    }
   ],
   "source": [
    "import numpy as np\n",
    "import matplotlib.pyplot as plt\n",
    "\n",
    "psi_up = np.array([[1], [0]])\n",
    "psi_down = np.array([[0], [1]])\n",
    "S_x_full = np.array([[0, 1], [1, 0]])\n",
    "\n",
    "psi_after_Sx = np.dot(S_x_full, psi_up)\n",
    "\n",
    "prob_spin_up = np.abs(np.dot(psi_up.T.conj(), psi_after_Sx))**2\n",
    "prob_spin_down = np.abs(np.dot(psi_down.T.conj(), psi_after_Sx))**2\n",
    "\n",
    "probabilities = [prob_spin_up[0][0], prob_spin_down[0][0]]\n",
    "states = ['Spin Up', 'Spin Down']\n",
    "\n",
    "plt.bar(states, probabilities, color=['blue', 'orange'])\n",
    "plt.ylabel('Probability')\n",
    "plt.title('Probability Distribution of Spin States After Measurement')\n",
    "plt.show()\n"
   ]
  },
  {
   "cell_type": "markdown",
   "metadata": {},
   "source": [
    "- Ejercicio 4.4.1"
   ]
  },
  {
   "cell_type": "code",
   "execution_count": 1,
   "metadata": {},
   "outputs": [
    {
     "name": "stdout",
     "output_type": "stream",
     "text": [
      "U1 es unitaria: True\n",
      "U2 es unitaria: True\n",
      "El producto U1 * U2 es unitario: True\n",
      "Producto de U1 y U2:\n",
      " [[ 0.70710678+0.j -0.70710678+0.j]\n",
      " [ 0.70710678+0.j  0.70710678+0.j]]\n"
     ]
    }
   ],
   "source": [
    "import numpy as np\n",
    "\n",
    "U1 = np.array([[0, 1], [1, 0]], dtype=complex)\n",
    "U2 = np.array([[np.sqrt(2)/2, np.sqrt(2)/2], \n",
    "               [np.sqrt(2)/2, -np.sqrt(2)/2]], dtype=complex)\n",
    "\n",
    "def es_unitaria(U):\n",
    "    return np.allclose(U.conj().T @ U, np.eye(U.shape[0]))\n",
    "\n",
    "print(\"U1 es unitaria:\", es_unitaria(U1))\n",
    "print(\"U2 es unitaria:\", es_unitaria(U2))\n",
    "\n",
    "U_producto = U1 @ U2\n",
    "print(\"El producto U1 * U2 es unitario:\", es_unitaria(U_producto))\n",
    "print(\"Producto de U1 y U2:\\n\", U_producto)\n"
   ]
  },
  {
   "cell_type": "markdown",
   "metadata": {},
   "source": [
    "- Ejercicio 4.4.2"
   ]
  },
  {
   "cell_type": "code",
   "execution_count": 2,
   "metadata": {},
   "outputs": [
    {
     "name": "stdout",
     "output_type": "stream",
     "text": [
      "Estado final después de tres pasos temporales:\n",
      " [ 0.        +0.00000000e+00j -0.70710678+2.29934717e-17j\n",
      " -0.70710678-2.29934717e-17j  0.        +0.00000000e+00j]\n",
      "Probabilidad de que la bola esté en la posición 3: 0.5000\n"
     ]
    }
   ],
   "source": [
    "import numpy as np\n",
    "\n",
    "U = np.array([[0, 1/np.sqrt(2), 1/np.sqrt(2), 0],\n",
    "              [1j/np.sqrt(2), 0, 0, 1/np.sqrt(2)],\n",
    "              [1j/np.sqrt(2), 0, 0, -1/np.sqrt(2)],\n",
    "              [0, 1/np.sqrt(2), -1/np.sqrt(2), 0]], dtype=complex)\n",
    "\n",
    "psi_0 = np.array([1, 0, 0, 0], dtype=complex)\n",
    "\n",
    "psi_final = U @ U @ U @ psi_0\n",
    "\n",
    "prob_posicion_3 = np.abs(psi_final[2])**2\n",
    "\n",
    "print(\"Estado final después de tres pasos temporales:\\n\", psi_final)\n",
    "print(f\"Probabilidad de que la bola esté en la posición 3: {prob_posicion_3:.4f}\")\n"
   ]
  },
  {
   "cell_type": "markdown",
   "metadata": {},
   "source": [
    "- Ejercicio 4.5.2 \n",
    "\n",
    "Para un sistema de partículas con espín 1/2 , cada partícula tiene dos posibles estados de espín:\n",
    "  - ∣0⟩ — que representa el espín \"arriba\" (por ejemplo, en el eje z)\n",
    "  - ∣1⟩ — que representa el espín \"abajo\"\n",
    "\n",
    "Cuando tenemos dos partículas, el estado del sistema se describe mediante el producto tensorial de los estados de espín de ambas partículas. Esto resulta en cuatro posibles estados base para el sistema:\n",
    "\n",
    "  - ∣00⟩, ∣01⟩, ∣10⟩, ∣11⟩\n",
    "\n",
    "Cada uno de estos estados base representa una combinación diferente de espines para las dos partículas, y el vector de estado general del sistema de dos partículas es una superposición de estos estados base:\n",
    "\n",
    "  - ∣𝜓⟩ = 𝛼00 ∣00⟩ + 𝛼01 ∣01⟩ + 𝛼10 ∣10⟩ + 𝛼11 ∣11⟩\n",
    "  donde 𝛼00, 𝛼01 , 𝛼10, 𝛼11 son coeficientes complejos, y la probabilidad total debe estar normalizada\n"
   ]
  },
  {
   "cell_type": "code",
   "execution_count": 3,
   "metadata": {},
   "outputs": [
    {
     "name": "stdout",
     "output_type": "stream",
     "text": [
      "|00⟩: (0.5714285714285714+0.5714285714285714j)\n",
      "|01⟩: (0.2857142857142857+0j)\n",
      "|10⟩: (-0-0.2857142857142857j)\n",
      "|11⟩: (0.42857142857142855+0j)\n"
     ]
    }
   ],
   "source": [
    "import numpy as np\n",
    "\n",
    "def state_vector_two_particles(alpha_00, alpha_01, alpha_10, alpha_11):\n",
    "    basis_states = ['|00⟩', '|01⟩', '|10⟩', '|11⟩']\n",
    "    state_vector = np.array([alpha_00, alpha_01, alpha_10, alpha_11])\n",
    "    norm = np.linalg.norm(state_vector)\n",
    "    normalized_vector = state_vector / norm\n",
    "    return [(basis_states[i], normalized_vector[i]) for i in range(4)]\n",
    "\n",
    "coeffs_2_particles = state_vector_two_particles(1 + 1j, 0.5, -0.5j, 0.75)\n",
    "\n",
    "for state, amplitude in coeffs_2_particles:\n",
    "    print(f\"{state}: {amplitude}\")\n"
   ]
  }
 ],
 "metadata": {
  "kernelspec": {
   "display_name": ".venv",
   "language": "python",
   "name": "python3"
  },
  "language_info": {
   "codemirror_mode": {
    "name": "ipython",
    "version": 3
   },
   "file_extension": ".py",
   "mimetype": "text/x-python",
   "name": "python",
   "nbconvert_exporter": "python",
   "pygments_lexer": "ipython3",
   "version": "3.9.2"
  }
 },
 "nbformat": 4,
 "nbformat_minor": 2
}
